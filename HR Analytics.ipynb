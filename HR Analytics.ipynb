{
 "cells": [
  {
   "cell_type": "code",
   "execution_count": 3,
   "id": "eec5dafc",
   "metadata": {},
   "outputs": [],
   "source": [
    "import pandas as pd\n",
    "import numpy as np\n",
    "import matplotlib.pyplot as plt\n",
    "import seaborn as sns\n",
    "\n",
    "from sklearn.preprocessing import LabelEncoder\n",
    "from sklearn.metrics import classification_report, confusion_matrix, precision_recall_curve, auc, roc_curve\n"
   ]
  },
  {
   "cell_type": "code",
   "execution_count": 6,
   "id": "f1bcd4bc",
   "metadata": {},
   "outputs": [],
   "source": [
    "data=pd.read_csv('train_LZdllcl.csv')\n"
   ]
  },
  {
   "cell_type": "code",
   "execution_count": null,
   "id": "6c281f87",
   "metadata": {},
   "outputs": [],
   "source": [
    "# Examining the Data"
   ]
  },
  {
   "cell_type": "code",
   "execution_count": 7,
   "id": "8545fd9e",
   "metadata": {},
   "outputs": [
    {
     "data": {
      "text/html": [
       "<div>\n",
       "<style scoped>\n",
       "    .dataframe tbody tr th:only-of-type {\n",
       "        vertical-align: middle;\n",
       "    }\n",
       "\n",
       "    .dataframe tbody tr th {\n",
       "        vertical-align: top;\n",
       "    }\n",
       "\n",
       "    .dataframe thead th {\n",
       "        text-align: right;\n",
       "    }\n",
       "</style>\n",
       "<table border=\"1\" class=\"dataframe\">\n",
       "  <thead>\n",
       "    <tr style=\"text-align: right;\">\n",
       "      <th></th>\n",
       "      <th>employee_id</th>\n",
       "      <th>department</th>\n",
       "      <th>region</th>\n",
       "      <th>education</th>\n",
       "      <th>gender</th>\n",
       "      <th>recruitment_channel</th>\n",
       "      <th>no_of_trainings</th>\n",
       "      <th>age</th>\n",
       "      <th>previous_year_rating</th>\n",
       "      <th>length_of_service</th>\n",
       "      <th>KPIs_met &gt;80%</th>\n",
       "      <th>awards_won?</th>\n",
       "      <th>avg_training_score</th>\n",
       "      <th>is_promoted</th>\n",
       "    </tr>\n",
       "  </thead>\n",
       "  <tbody>\n",
       "    <tr>\n",
       "      <th>0</th>\n",
       "      <td>65438</td>\n",
       "      <td>Sales &amp; Marketing</td>\n",
       "      <td>region_7</td>\n",
       "      <td>Master's &amp; above</td>\n",
       "      <td>f</td>\n",
       "      <td>sourcing</td>\n",
       "      <td>1</td>\n",
       "      <td>35</td>\n",
       "      <td>5.0</td>\n",
       "      <td>8</td>\n",
       "      <td>1</td>\n",
       "      <td>0</td>\n",
       "      <td>49</td>\n",
       "      <td>0</td>\n",
       "    </tr>\n",
       "    <tr>\n",
       "      <th>1</th>\n",
       "      <td>65141</td>\n",
       "      <td>Operations</td>\n",
       "      <td>region_22</td>\n",
       "      <td>Bachelor's</td>\n",
       "      <td>m</td>\n",
       "      <td>other</td>\n",
       "      <td>1</td>\n",
       "      <td>30</td>\n",
       "      <td>5.0</td>\n",
       "      <td>4</td>\n",
       "      <td>0</td>\n",
       "      <td>0</td>\n",
       "      <td>60</td>\n",
       "      <td>0</td>\n",
       "    </tr>\n",
       "    <tr>\n",
       "      <th>2</th>\n",
       "      <td>7513</td>\n",
       "      <td>Sales &amp; Marketing</td>\n",
       "      <td>region_19</td>\n",
       "      <td>Bachelor's</td>\n",
       "      <td>m</td>\n",
       "      <td>sourcing</td>\n",
       "      <td>1</td>\n",
       "      <td>34</td>\n",
       "      <td>3.0</td>\n",
       "      <td>7</td>\n",
       "      <td>0</td>\n",
       "      <td>0</td>\n",
       "      <td>50</td>\n",
       "      <td>0</td>\n",
       "    </tr>\n",
       "    <tr>\n",
       "      <th>3</th>\n",
       "      <td>2542</td>\n",
       "      <td>Sales &amp; Marketing</td>\n",
       "      <td>region_23</td>\n",
       "      <td>Bachelor's</td>\n",
       "      <td>m</td>\n",
       "      <td>other</td>\n",
       "      <td>2</td>\n",
       "      <td>39</td>\n",
       "      <td>1.0</td>\n",
       "      <td>10</td>\n",
       "      <td>0</td>\n",
       "      <td>0</td>\n",
       "      <td>50</td>\n",
       "      <td>0</td>\n",
       "    </tr>\n",
       "    <tr>\n",
       "      <th>4</th>\n",
       "      <td>48945</td>\n",
       "      <td>Technology</td>\n",
       "      <td>region_26</td>\n",
       "      <td>Bachelor's</td>\n",
       "      <td>m</td>\n",
       "      <td>other</td>\n",
       "      <td>1</td>\n",
       "      <td>45</td>\n",
       "      <td>3.0</td>\n",
       "      <td>2</td>\n",
       "      <td>0</td>\n",
       "      <td>0</td>\n",
       "      <td>73</td>\n",
       "      <td>0</td>\n",
       "    </tr>\n",
       "  </tbody>\n",
       "</table>\n",
       "</div>"
      ],
      "text/plain": [
       "   employee_id         department     region         education gender  \\\n",
       "0        65438  Sales & Marketing   region_7  Master's & above      f   \n",
       "1        65141         Operations  region_22        Bachelor's      m   \n",
       "2         7513  Sales & Marketing  region_19        Bachelor's      m   \n",
       "3         2542  Sales & Marketing  region_23        Bachelor's      m   \n",
       "4        48945         Technology  region_26        Bachelor's      m   \n",
       "\n",
       "  recruitment_channel  no_of_trainings  age  previous_year_rating  \\\n",
       "0            sourcing                1   35                   5.0   \n",
       "1               other                1   30                   5.0   \n",
       "2            sourcing                1   34                   3.0   \n",
       "3               other                2   39                   1.0   \n",
       "4               other                1   45                   3.0   \n",
       "\n",
       "   length_of_service  KPIs_met >80%  awards_won?  avg_training_score  \\\n",
       "0                  8              1            0                  49   \n",
       "1                  4              0            0                  60   \n",
       "2                  7              0            0                  50   \n",
       "3                 10              0            0                  50   \n",
       "4                  2              0            0                  73   \n",
       "\n",
       "   is_promoted  \n",
       "0            0  \n",
       "1            0  \n",
       "2            0  \n",
       "3            0  \n",
       "4            0  "
      ]
     },
     "execution_count": 7,
     "metadata": {},
     "output_type": "execute_result"
    }
   ],
   "source": [
    "data.head()"
   ]
  },
  {
   "cell_type": "code",
   "execution_count": 8,
   "id": "7284924b",
   "metadata": {},
   "outputs": [
    {
     "data": {
      "text/plain": [
       "(54808, 14)"
      ]
     },
     "execution_count": 8,
     "metadata": {},
     "output_type": "execute_result"
    }
   ],
   "source": [
    "data.shape"
   ]
  },
  {
   "cell_type": "code",
   "execution_count": 6,
   "id": "4d63ab6b",
   "metadata": {},
   "outputs": [
    {
     "name": "stdout",
     "output_type": "stream",
     "text": [
      "<class 'pandas.core.frame.DataFrame'>\n",
      "RangeIndex: 54808 entries, 0 to 54807\n",
      "Data columns (total 14 columns):\n",
      " #   Column                Non-Null Count  Dtype  \n",
      "---  ------                --------------  -----  \n",
      " 0   employee_id           54808 non-null  int64  \n",
      " 1   department            54808 non-null  object \n",
      " 2   region                54808 non-null  object \n",
      " 3   education             52399 non-null  object \n",
      " 4   gender                54808 non-null  object \n",
      " 5   recruitment_channel   54808 non-null  object \n",
      " 6   no_of_trainings       54808 non-null  int64  \n",
      " 7   age                   54808 non-null  int64  \n",
      " 8   previous_year_rating  50684 non-null  float64\n",
      " 9   length_of_service     54808 non-null  int64  \n",
      " 10  KPIs_met >80%         54808 non-null  int64  \n",
      " 11  awards_won?           54808 non-null  int64  \n",
      " 12  avg_training_score    54808 non-null  int64  \n",
      " 13  is_promoted           54808 non-null  int64  \n",
      "dtypes: float64(1), int64(8), object(5)\n",
      "memory usage: 5.9+ MB\n"
     ]
    }
   ],
   "source": [
    "data.info()"
   ]
  },
  {
   "cell_type": "code",
   "execution_count": null,
   "id": "7db8225e",
   "metadata": {},
   "outputs": [],
   "source": [
    "# Descriptive Statistics"
   ]
  },
  {
   "cell_type": "code",
   "execution_count": 8,
   "id": "f90cd46a",
   "metadata": {},
   "outputs": [
    {
     "data": {
      "text/html": [
       "<div>\n",
       "<style scoped>\n",
       "    .dataframe tbody tr th:only-of-type {\n",
       "        vertical-align: middle;\n",
       "    }\n",
       "\n",
       "    .dataframe tbody tr th {\n",
       "        vertical-align: top;\n",
       "    }\n",
       "\n",
       "    .dataframe thead th {\n",
       "        text-align: right;\n",
       "    }\n",
       "</style>\n",
       "<table border=\"1\" class=\"dataframe\">\n",
       "  <thead>\n",
       "    <tr style=\"text-align: right;\">\n",
       "      <th></th>\n",
       "      <th>employee_id</th>\n",
       "      <th>no_of_trainings</th>\n",
       "      <th>age</th>\n",
       "      <th>previous_year_rating</th>\n",
       "      <th>length_of_service</th>\n",
       "      <th>KPIs_met &gt;80%</th>\n",
       "      <th>awards_won?</th>\n",
       "      <th>avg_training_score</th>\n",
       "      <th>is_promoted</th>\n",
       "    </tr>\n",
       "  </thead>\n",
       "  <tbody>\n",
       "    <tr>\n",
       "      <th>count</th>\n",
       "      <td>54808.000000</td>\n",
       "      <td>54808.000000</td>\n",
       "      <td>54808.000000</td>\n",
       "      <td>50684.000000</td>\n",
       "      <td>54808.000000</td>\n",
       "      <td>54808.000000</td>\n",
       "      <td>54808.000000</td>\n",
       "      <td>54808.000000</td>\n",
       "      <td>54808.000000</td>\n",
       "    </tr>\n",
       "    <tr>\n",
       "      <th>mean</th>\n",
       "      <td>39195.830627</td>\n",
       "      <td>1.253011</td>\n",
       "      <td>34.803915</td>\n",
       "      <td>3.329256</td>\n",
       "      <td>5.865512</td>\n",
       "      <td>0.351974</td>\n",
       "      <td>0.023172</td>\n",
       "      <td>63.386750</td>\n",
       "      <td>0.085170</td>\n",
       "    </tr>\n",
       "    <tr>\n",
       "      <th>std</th>\n",
       "      <td>22586.581449</td>\n",
       "      <td>0.609264</td>\n",
       "      <td>7.660169</td>\n",
       "      <td>1.259993</td>\n",
       "      <td>4.265094</td>\n",
       "      <td>0.477590</td>\n",
       "      <td>0.150450</td>\n",
       "      <td>13.371559</td>\n",
       "      <td>0.279137</td>\n",
       "    </tr>\n",
       "    <tr>\n",
       "      <th>min</th>\n",
       "      <td>1.000000</td>\n",
       "      <td>1.000000</td>\n",
       "      <td>20.000000</td>\n",
       "      <td>1.000000</td>\n",
       "      <td>1.000000</td>\n",
       "      <td>0.000000</td>\n",
       "      <td>0.000000</td>\n",
       "      <td>39.000000</td>\n",
       "      <td>0.000000</td>\n",
       "    </tr>\n",
       "    <tr>\n",
       "      <th>25%</th>\n",
       "      <td>19669.750000</td>\n",
       "      <td>1.000000</td>\n",
       "      <td>29.000000</td>\n",
       "      <td>3.000000</td>\n",
       "      <td>3.000000</td>\n",
       "      <td>0.000000</td>\n",
       "      <td>0.000000</td>\n",
       "      <td>51.000000</td>\n",
       "      <td>0.000000</td>\n",
       "    </tr>\n",
       "    <tr>\n",
       "      <th>50%</th>\n",
       "      <td>39225.500000</td>\n",
       "      <td>1.000000</td>\n",
       "      <td>33.000000</td>\n",
       "      <td>3.000000</td>\n",
       "      <td>5.000000</td>\n",
       "      <td>0.000000</td>\n",
       "      <td>0.000000</td>\n",
       "      <td>60.000000</td>\n",
       "      <td>0.000000</td>\n",
       "    </tr>\n",
       "    <tr>\n",
       "      <th>75%</th>\n",
       "      <td>58730.500000</td>\n",
       "      <td>1.000000</td>\n",
       "      <td>39.000000</td>\n",
       "      <td>4.000000</td>\n",
       "      <td>7.000000</td>\n",
       "      <td>1.000000</td>\n",
       "      <td>0.000000</td>\n",
       "      <td>76.000000</td>\n",
       "      <td>0.000000</td>\n",
       "    </tr>\n",
       "    <tr>\n",
       "      <th>max</th>\n",
       "      <td>78298.000000</td>\n",
       "      <td>10.000000</td>\n",
       "      <td>60.000000</td>\n",
       "      <td>5.000000</td>\n",
       "      <td>37.000000</td>\n",
       "      <td>1.000000</td>\n",
       "      <td>1.000000</td>\n",
       "      <td>99.000000</td>\n",
       "      <td>1.000000</td>\n",
       "    </tr>\n",
       "  </tbody>\n",
       "</table>\n",
       "</div>"
      ],
      "text/plain": [
       "        employee_id  no_of_trainings           age  previous_year_rating  \\\n",
       "count  54808.000000     54808.000000  54808.000000          50684.000000   \n",
       "mean   39195.830627         1.253011     34.803915              3.329256   \n",
       "std    22586.581449         0.609264      7.660169              1.259993   \n",
       "min        1.000000         1.000000     20.000000              1.000000   \n",
       "25%    19669.750000         1.000000     29.000000              3.000000   \n",
       "50%    39225.500000         1.000000     33.000000              3.000000   \n",
       "75%    58730.500000         1.000000     39.000000              4.000000   \n",
       "max    78298.000000        10.000000     60.000000              5.000000   \n",
       "\n",
       "       length_of_service  KPIs_met >80%   awards_won?  avg_training_score  \\\n",
       "count       54808.000000   54808.000000  54808.000000        54808.000000   \n",
       "mean            5.865512       0.351974      0.023172           63.386750   \n",
       "std             4.265094       0.477590      0.150450           13.371559   \n",
       "min             1.000000       0.000000      0.000000           39.000000   \n",
       "25%             3.000000       0.000000      0.000000           51.000000   \n",
       "50%             5.000000       0.000000      0.000000           60.000000   \n",
       "75%             7.000000       1.000000      0.000000           76.000000   \n",
       "max            37.000000       1.000000      1.000000           99.000000   \n",
       "\n",
       "        is_promoted  \n",
       "count  54808.000000  \n",
       "mean       0.085170  \n",
       "std        0.279137  \n",
       "min        0.000000  \n",
       "25%        0.000000  \n",
       "50%        0.000000  \n",
       "75%        0.000000  \n",
       "max        1.000000  "
      ]
     },
     "execution_count": 8,
     "metadata": {},
     "output_type": "execute_result"
    }
   ],
   "source": [
    "data.describe()"
   ]
  },
  {
   "cell_type": "code",
   "execution_count": 80,
   "id": "6a58f4ec",
   "metadata": {},
   "outputs": [
    {
     "data": {
      "text/plain": [
       "0    50140\n",
       "1     4668\n",
       "Name: is_promoted, dtype: int64"
      ]
     },
     "execution_count": 80,
     "metadata": {},
     "output_type": "execute_result"
    }
   ],
   "source": [
    "data['is_promoted'].value_counts()"
   ]
  },
  {
   "cell_type": "code",
   "execution_count": 81,
   "id": "b963ec8d",
   "metadata": {},
   "outputs": [
    {
     "data": {
      "text/plain": [
       "employee_id                0\n",
       "department                 0\n",
       "region                     0\n",
       "education               2409\n",
       "gender                     0\n",
       "recruitment_channel        0\n",
       "no_of_trainings            0\n",
       "age                        0\n",
       "previous_year_rating    4124\n",
       "length_of_service          0\n",
       "KPIs_met >80%              0\n",
       "awards_won?                0\n",
       "avg_training_score         0\n",
       "is_promoted                0\n",
       "dtype: int64"
      ]
     },
     "execution_count": 81,
     "metadata": {},
     "output_type": "execute_result"
    }
   ],
   "source": [
    "data.isnull().sum()"
   ]
  },
  {
   "cell_type": "code",
   "execution_count": 82,
   "id": "7965aaef",
   "metadata": {},
   "outputs": [
    {
     "data": {
      "text/plain": [
       "Bachelor's          36669\n",
       "Master's & above    14925\n",
       "Below Secondary       805\n",
       "Name: education, dtype: int64"
      ]
     },
     "execution_count": 82,
     "metadata": {},
     "output_type": "execute_result"
    }
   ],
   "source": [
    "data['education'].value_counts()"
   ]
  },
  {
   "cell_type": "markdown",
   "id": "3825da37",
   "metadata": {},
   "source": [
    "# Visualization"
   ]
  },
  {
   "cell_type": "code",
   "execution_count": 59,
   "id": "26bcab3a",
   "metadata": {},
   "outputs": [
    {
     "data": {
      "text/plain": [
       "<AxesSubplot:xlabel='is_promoted', ylabel='count'>"
      ]
     },
     "execution_count": 59,
     "metadata": {},
     "output_type": "execute_result"
    },
    {
     "data": {
      "image/png": "[encoded data removed]",
      "text/plain": [
       "<Figure size 432x288 with 1 Axes>"
      ]
     },
     "metadata": {
      "needs_background": "light"
     },
     "output_type": "display_data"
    }
   ],
   "source": [
    "sns.countplot(x='is_promoted',hue='gender',data=data)"
   ]
  },
  {
   "cell_type": "code",
   "execution_count": 62,
   "id": "f24f09c8",
   "metadata": {},
   "outputs": [
    {
     "data": {
      "text/plain": [
       "<AxesSubplot:xlabel='is_promoted', ylabel='count'>"
      ]
     },
     "execution_count": 62,
     "metadata": {},
     "output_type": "execute_result"
    },
    {
     "data": {
      "image/png": "[encoded data removed]",
      "text/plain": [
       "<Figure size 432x288 with 1 Axes>"
      ]
     },
     "metadata": {
      "needs_background": "light"
     },
     "output_type": "display_data"
    }
   ],
   "source": [
    "sns.countplot(x='is_promoted',hue='education',data=data)"
   ]
  },
  {
   "cell_type": "code",
   "execution_count": 63,
   "id": "437271b5",
   "metadata": {},
   "outputs": [
    {
     "data": {
      "text/plain": [
       "0        Master's & above\n",
       "1              Bachelor's\n",
       "2              Bachelor's\n",
       "3              Bachelor's\n",
       "4              Bachelor's\n",
       "               ...       \n",
       "54803          Bachelor's\n",
       "54804    Master's & above\n",
       "54805          Bachelor's\n",
       "54806                 NaN\n",
       "54807          Bachelor's\n",
       "Name: education, Length: 54808, dtype: object"
      ]
     },
     "execution_count": 63,
     "metadata": {},
     "output_type": "execute_result"
    }
   ],
   "source": [
    "data[['education'][['KPIs_met >80%']==1]]"
   ]
  },
  {
   "cell_type": "code",
   "execution_count": 64,
   "id": "476e8076",
   "metadata": {},
   "outputs": [
    {
     "data": {
      "text/plain": [
       "<AxesSubplot:xlabel='education', ylabel='count'>"
      ]
     },
     "execution_count": 64,
     "metadata": {},
     "output_type": "execute_result"
    },
    {
     "data": {
      "image/png": "[encoded data removed]",
      "text/plain": [
       "<Figure size 576x504 with 1 Axes>"
      ]
     },
     "metadata": {
      "needs_background": "light"
     },
     "output_type": "display_data"
    }
   ],
   "source": [
    "plt.figure(figsize=(8,7))\n",
    "sns.countplot(x=data['education'], data=data,palette=\"prism\")"
   ]
  },
  {
   "cell_type": "code",
   "execution_count": 65,
   "id": "aa30d931",
   "metadata": {},
   "outputs": [
    {
     "data": {
      "text/plain": [
       "<AxesSubplot:xlabel='education', ylabel='Count'>"
      ]
     },
     "execution_count": 65,
     "metadata": {},
     "output_type": "execute_result"
    },
    {
     "data": {
      "image/png": "[encoded data removed]",
      "text/plain": [
       "<Figure size 1152x504 with 1 Axes>"
      ]
     },
     "metadata": {
      "needs_background": "light"
     },
     "output_type": "display_data"
    }
   ],
   "source": [
    "plt.figure(figsize=(16,7))\n",
    "sns.histplot(x='education',data=data,bins=np.arange(0,85,5),hue='department',palette='Accent',multiple='stack')\n",
    "#plt.xticks(np.arange(0,85,5))"
   ]
  },
  {
   "cell_type": "code",
   "execution_count": 9,
   "id": "4dc03dca",
   "metadata": {},
   "outputs": [],
   "source": [
    "labelencoder=LabelEncoder()\n",
    "for column in data.columns:\n",
    "    data['education'] = labelencoder.fit_transform(data['education'])"
   ]
  },
  {
   "cell_type": "code",
   "execution_count": 10,
   "id": "605e2bd6",
   "metadata": {},
   "outputs": [],
   "source": [
    "data['education']=data.groupby(['department'])['education'].apply(lambda x: x.fillna(x.median()))"
   ]
  },
  {
   "cell_type": "code",
   "execution_count": 124,
   "id": "654eff36",
   "metadata": {},
   "outputs": [
    {
     "data": {
      "text/plain": [
       "<AxesSubplot:xlabel='previous_year_rating', ylabel='count'>"
      ]
     },
     "execution_count": 124,
     "metadata": {},
     "output_type": "execute_result"
    },
    {
     "data": {
      "image/png": "[encoded data removed]",
      "text/plain": [
       "<Figure size 576x504 with 1 Axes>"
      ]
     },
     "metadata": {
      "needs_background": "light"
     },
     "output_type": "display_data"
    }
   ],
   "source": [
    "plt.figure(figsize=(8,7))\n",
    "sns.countplot(x=data['previous_year_rating'], data=data,palette=\"prism\")"
   ]
  },
  {
   "cell_type": "code",
   "execution_count": 11,
   "id": "e343a39e",
   "metadata": {},
   "outputs": [],
   "source": [
    "data['previous_year_rating'].fillna(data['previous_year_rating'].median(), inplace=True)\n"
   ]
  },
  {
   "cell_type": "code",
   "execution_count": 12,
   "id": "76dcd728",
   "metadata": {},
   "outputs": [
    {
     "data": {
      "text/plain": [
       "employee_id             0\n",
       "department              0\n",
       "region                  0\n",
       "education               0\n",
       "gender                  0\n",
       "recruitment_channel     0\n",
       "no_of_trainings         0\n",
       "age                     0\n",
       "previous_year_rating    0\n",
       "length_of_service       0\n",
       "KPIs_met >80%           0\n",
       "awards_won?             0\n",
       "avg_training_score      0\n",
       "is_promoted             0\n",
       "dtype: int64"
      ]
     },
     "execution_count": 12,
     "metadata": {},
     "output_type": "execute_result"
    }
   ],
   "source": [
    "data.isnull().sum()"
   ]
  },
  {
   "cell_type": "code",
   "execution_count": 13,
   "id": "818a48a1",
   "metadata": {},
   "outputs": [
    {
     "data": {
      "text/plain": [
       "employee_id               int64\n",
       "department               object\n",
       "region                   object\n",
       "education                 int64\n",
       "gender                   object\n",
       "recruitment_channel      object\n",
       "no_of_trainings           int64\n",
       "age                       int64\n",
       "previous_year_rating    float64\n",
       "length_of_service         int64\n",
       "KPIs_met >80%             int64\n",
       "awards_won?               int64\n",
       "avg_training_score        int64\n",
       "is_promoted               int64\n",
       "dtype: object"
      ]
     },
     "execution_count": 13,
     "metadata": {},
     "output_type": "execute_result"
    }
   ],
   "source": [
    "data.dtypes"
   ]
  },
  {
   "cell_type": "code",
   "execution_count": 14,
   "id": "9bd1cfee",
   "metadata": {},
   "outputs": [],
   "source": [
    "obj_column= data.select_dtypes(include='object')"
   ]
  },
  {
   "cell_type": "code",
   "execution_count": 90,
   "id": "12923185",
   "metadata": {},
   "outputs": [
    {
     "data": {
      "text/html": [
       "<div>\n",
       "<style scoped>\n",
       "    .dataframe tbody tr th:only-of-type {\n",
       "        vertical-align: middle;\n",
       "    }\n",
       "\n",
       "    .dataframe tbody tr th {\n",
       "        vertical-align: top;\n",
       "    }\n",
       "\n",
       "    .dataframe thead th {\n",
       "        text-align: right;\n",
       "    }\n",
       "</style>\n",
       "<table border=\"1\" class=\"dataframe\">\n",
       "  <thead>\n",
       "    <tr style=\"text-align: right;\">\n",
       "      <th></th>\n",
       "      <th>department</th>\n",
       "      <th>region</th>\n",
       "      <th>gender</th>\n",
       "      <th>recruitment_channel</th>\n",
       "    </tr>\n",
       "  </thead>\n",
       "  <tbody>\n",
       "    <tr>\n",
       "      <th>0</th>\n",
       "      <td>Sales &amp; Marketing</td>\n",
       "      <td>region_7</td>\n",
       "      <td>f</td>\n",
       "      <td>sourcing</td>\n",
       "    </tr>\n",
       "    <tr>\n",
       "      <th>1</th>\n",
       "      <td>Operations</td>\n",
       "      <td>region_22</td>\n",
       "      <td>m</td>\n",
       "      <td>other</td>\n",
       "    </tr>\n",
       "    <tr>\n",
       "      <th>2</th>\n",
       "      <td>Sales &amp; Marketing</td>\n",
       "      <td>region_19</td>\n",
       "      <td>m</td>\n",
       "      <td>sourcing</td>\n",
       "    </tr>\n",
       "    <tr>\n",
       "      <th>3</th>\n",
       "      <td>Sales &amp; Marketing</td>\n",
       "      <td>region_23</td>\n",
       "      <td>m</td>\n",
       "      <td>other</td>\n",
       "    </tr>\n",
       "    <tr>\n",
       "      <th>4</th>\n",
       "      <td>Technology</td>\n",
       "      <td>region_26</td>\n",
       "      <td>m</td>\n",
       "      <td>other</td>\n",
       "    </tr>\n",
       "    <tr>\n",
       "      <th>...</th>\n",
       "      <td>...</td>\n",
       "      <td>...</td>\n",
       "      <td>...</td>\n",
       "      <td>...</td>\n",
       "    </tr>\n",
       "    <tr>\n",
       "      <th>54803</th>\n",
       "      <td>Technology</td>\n",
       "      <td>region_14</td>\n",
       "      <td>m</td>\n",
       "      <td>sourcing</td>\n",
       "    </tr>\n",
       "    <tr>\n",
       "      <th>54804</th>\n",
       "      <td>Operations</td>\n",
       "      <td>region_27</td>\n",
       "      <td>f</td>\n",
       "      <td>other</td>\n",
       "    </tr>\n",
       "    <tr>\n",
       "      <th>54805</th>\n",
       "      <td>Analytics</td>\n",
       "      <td>region_1</td>\n",
       "      <td>m</td>\n",
       "      <td>other</td>\n",
       "    </tr>\n",
       "    <tr>\n",
       "      <th>54806</th>\n",
       "      <td>Sales &amp; Marketing</td>\n",
       "      <td>region_9</td>\n",
       "      <td>m</td>\n",
       "      <td>sourcing</td>\n",
       "    </tr>\n",
       "    <tr>\n",
       "      <th>54807</th>\n",
       "      <td>HR</td>\n",
       "      <td>region_22</td>\n",
       "      <td>m</td>\n",
       "      <td>other</td>\n",
       "    </tr>\n",
       "  </tbody>\n",
       "</table>\n",
       "<p>54808 rows × 4 columns</p>\n",
       "</div>"
      ],
      "text/plain": [
       "              department     region gender recruitment_channel\n",
       "0      Sales & Marketing   region_7      f            sourcing\n",
       "1             Operations  region_22      m               other\n",
       "2      Sales & Marketing  region_19      m            sourcing\n",
       "3      Sales & Marketing  region_23      m               other\n",
       "4             Technology  region_26      m               other\n",
       "...                  ...        ...    ...                 ...\n",
       "54803         Technology  region_14      m            sourcing\n",
       "54804         Operations  region_27      f               other\n",
       "54805          Analytics   region_1      m               other\n",
       "54806  Sales & Marketing   region_9      m            sourcing\n",
       "54807                 HR  region_22      m               other\n",
       "\n",
       "[54808 rows x 4 columns]"
      ]
     },
     "execution_count": 90,
     "metadata": {},
     "output_type": "execute_result"
    }
   ],
   "source": [
    "obj_column"
   ]
  },
  {
   "cell_type": "code",
   "execution_count": 15,
   "id": "d42de1c9",
   "metadata": {},
   "outputs": [],
   "source": [
    "for column in obj_column:\n",
    "    data[column] = labelencoder.fit_transform(data[column])"
   ]
  },
  {
   "cell_type": "code",
   "execution_count": 92,
   "id": "c546f53c",
   "metadata": {},
   "outputs": [
    {
     "data": {
      "text/html": [
       "<div>\n",
       "<style scoped>\n",
       "    .dataframe tbody tr th:only-of-type {\n",
       "        vertical-align: middle;\n",
       "    }\n",
       "\n",
       "    .dataframe tbody tr th {\n",
       "        vertical-align: top;\n",
       "    }\n",
       "\n",
       "    .dataframe thead th {\n",
       "        text-align: right;\n",
       "    }\n",
       "</style>\n",
       "<table border=\"1\" class=\"dataframe\">\n",
       "  <thead>\n",
       "    <tr style=\"text-align: right;\">\n",
       "      <th></th>\n",
       "      <th>employee_id</th>\n",
       "      <th>department</th>\n",
       "      <th>region</th>\n",
       "      <th>education</th>\n",
       "      <th>gender</th>\n",
       "      <th>recruitment_channel</th>\n",
       "      <th>no_of_trainings</th>\n",
       "      <th>age</th>\n",
       "      <th>previous_year_rating</th>\n",
       "      <th>length_of_service</th>\n",
       "      <th>KPIs_met &gt;80%</th>\n",
       "      <th>awards_won?</th>\n",
       "      <th>avg_training_score</th>\n",
       "      <th>is_promoted</th>\n",
       "    </tr>\n",
       "  </thead>\n",
       "  <tbody>\n",
       "    <tr>\n",
       "      <th>0</th>\n",
       "      <td>65438</td>\n",
       "      <td>7</td>\n",
       "      <td>31</td>\n",
       "      <td>2</td>\n",
       "      <td>0</td>\n",
       "      <td>2</td>\n",
       "      <td>1</td>\n",
       "      <td>35</td>\n",
       "      <td>5.0</td>\n",
       "      <td>8</td>\n",
       "      <td>1</td>\n",
       "      <td>0</td>\n",
       "      <td>49</td>\n",
       "      <td>0</td>\n",
       "    </tr>\n",
       "    <tr>\n",
       "      <th>1</th>\n",
       "      <td>65141</td>\n",
       "      <td>4</td>\n",
       "      <td>14</td>\n",
       "      <td>0</td>\n",
       "      <td>1</td>\n",
       "      <td>0</td>\n",
       "      <td>1</td>\n",
       "      <td>30</td>\n",
       "      <td>5.0</td>\n",
       "      <td>4</td>\n",
       "      <td>0</td>\n",
       "      <td>0</td>\n",
       "      <td>60</td>\n",
       "      <td>0</td>\n",
       "    </tr>\n",
       "    <tr>\n",
       "      <th>2</th>\n",
       "      <td>7513</td>\n",
       "      <td>7</td>\n",
       "      <td>10</td>\n",
       "      <td>0</td>\n",
       "      <td>1</td>\n",
       "      <td>2</td>\n",
       "      <td>1</td>\n",
       "      <td>34</td>\n",
       "      <td>3.0</td>\n",
       "      <td>7</td>\n",
       "      <td>0</td>\n",
       "      <td>0</td>\n",
       "      <td>50</td>\n",
       "      <td>0</td>\n",
       "    </tr>\n",
       "    <tr>\n",
       "      <th>3</th>\n",
       "      <td>2542</td>\n",
       "      <td>7</td>\n",
       "      <td>15</td>\n",
       "      <td>0</td>\n",
       "      <td>1</td>\n",
       "      <td>0</td>\n",
       "      <td>2</td>\n",
       "      <td>39</td>\n",
       "      <td>1.0</td>\n",
       "      <td>10</td>\n",
       "      <td>0</td>\n",
       "      <td>0</td>\n",
       "      <td>50</td>\n",
       "      <td>0</td>\n",
       "    </tr>\n",
       "    <tr>\n",
       "      <th>4</th>\n",
       "      <td>48945</td>\n",
       "      <td>8</td>\n",
       "      <td>18</td>\n",
       "      <td>0</td>\n",
       "      <td>1</td>\n",
       "      <td>0</td>\n",
       "      <td>1</td>\n",
       "      <td>45</td>\n",
       "      <td>3.0</td>\n",
       "      <td>2</td>\n",
       "      <td>0</td>\n",
       "      <td>0</td>\n",
       "      <td>73</td>\n",
       "      <td>0</td>\n",
       "    </tr>\n",
       "  </tbody>\n",
       "</table>\n",
       "</div>"
      ],
      "text/plain": [
       "   employee_id  department  region  education  gender  recruitment_channel  \\\n",
       "0        65438           7      31          2       0                    2   \n",
       "1        65141           4      14          0       1                    0   \n",
       "2         7513           7      10          0       1                    2   \n",
       "3         2542           7      15          0       1                    0   \n",
       "4        48945           8      18          0       1                    0   \n",
       "\n",
       "   no_of_trainings  age  previous_year_rating  length_of_service  \\\n",
       "0                1   35                   5.0                  8   \n",
       "1                1   30                   5.0                  4   \n",
       "2                1   34                   3.0                  7   \n",
       "3                2   39                   1.0                 10   \n",
       "4                1   45                   3.0                  2   \n",
       "\n",
       "   KPIs_met >80%  awards_won?  avg_training_score  is_promoted  \n",
       "0              1            0                  49            0  \n",
       "1              0            0                  60            0  \n",
       "2              0            0                  50            0  \n",
       "3              0            0                  50            0  \n",
       "4              0            0                  73            0  "
      ]
     },
     "execution_count": 92,
     "metadata": {},
     "output_type": "execute_result"
    }
   ],
   "source": [
    "data.head()"
   ]
  },
  {
   "cell_type": "code",
   "execution_count": null,
   "id": "fcd500e3",
   "metadata": {},
   "outputs": [],
   "source": []
  },
  {
   "cell_type": "code",
   "execution_count": 93,
   "id": "aa8fda89",
   "metadata": {},
   "outputs": [],
   "source": [
    "# Correlation Between the variables"
   ]
  },
  {
   "cell_type": "code",
   "execution_count": 94,
   "id": "0ada04c7",
   "metadata": {},
   "outputs": [
    {
     "data": {
      "image/png": "[encoded data removed]",
      "text/plain": [
       "<Figure size 1440x1296 with 2 Axes>"
      ]
     },
     "metadata": {
      "needs_background": "light"
     },
     "output_type": "display_data"
    }
   ],
   "source": [
    "plt.figure(figsize=(20,18))\n",
    "sns.heatmap(data.corr(),linewidths=.1,cmap=\"turbo\", annot=True, annot_kws={\"size\": 9})\n",
    "plt.yticks(rotation=0);"
   ]
  },
  {
   "cell_type": "markdown",
   "id": "0d6491d4",
   "metadata": {},
   "source": [
    "From the above heatmap we can infer that, the least corelatimg varible is avg_training_score.\n",
    "Usually, the least correlating variable is the most important one for classification. \n",
    "In this case, “avg_training_score” is -0.25"
   ]
  },
  {
   "cell_type": "code",
   "execution_count": 16,
   "id": "114e312e",
   "metadata": {},
   "outputs": [
    {
     "data": {
      "text/html": [
       "<div>\n",
       "<style scoped>\n",
       "    .dataframe tbody tr th:only-of-type {\n",
       "        vertical-align: middle;\n",
       "    }\n",
       "\n",
       "    .dataframe tbody tr th {\n",
       "        vertical-align: top;\n",
       "    }\n",
       "\n",
       "    .dataframe thead th {\n",
       "        text-align: right;\n",
       "    }\n",
       "</style>\n",
       "<table border=\"1\" class=\"dataframe\">\n",
       "  <thead>\n",
       "    <tr style=\"text-align: right;\">\n",
       "      <th></th>\n",
       "      <th>is_promoted</th>\n",
       "    </tr>\n",
       "    <tr>\n",
       "      <th>avg_training_score</th>\n",
       "      <th></th>\n",
       "    </tr>\n",
       "  </thead>\n",
       "  <tbody>\n",
       "    <tr>\n",
       "      <th>99</th>\n",
       "      <td>1.000000</td>\n",
       "    </tr>\n",
       "    <tr>\n",
       "      <th>98</th>\n",
       "      <td>1.000000</td>\n",
       "    </tr>\n",
       "    <tr>\n",
       "      <th>97</th>\n",
       "      <td>1.000000</td>\n",
       "    </tr>\n",
       "    <tr>\n",
       "      <th>95</th>\n",
       "      <td>1.000000</td>\n",
       "    </tr>\n",
       "    <tr>\n",
       "      <th>96</th>\n",
       "      <td>0.979167</td>\n",
       "    </tr>\n",
       "    <tr>\n",
       "      <th>...</th>\n",
       "      <td>...</td>\n",
       "    </tr>\n",
       "    <tr>\n",
       "      <th>42</th>\n",
       "      <td>0.032258</td>\n",
       "    </tr>\n",
       "    <tr>\n",
       "      <th>46</th>\n",
       "      <td>0.031690</td>\n",
       "    </tr>\n",
       "    <tr>\n",
       "      <th>44</th>\n",
       "      <td>0.029851</td>\n",
       "    </tr>\n",
       "    <tr>\n",
       "      <th>40</th>\n",
       "      <td>0.000000</td>\n",
       "    </tr>\n",
       "    <tr>\n",
       "      <th>39</th>\n",
       "      <td>0.000000</td>\n",
       "    </tr>\n",
       "  </tbody>\n",
       "</table>\n",
       "<p>61 rows × 1 columns</p>\n",
       "</div>"
      ],
      "text/plain": [
       "                    is_promoted\n",
       "avg_training_score             \n",
       "99                     1.000000\n",
       "98                     1.000000\n",
       "97                     1.000000\n",
       "95                     1.000000\n",
       "96                     0.979167\n",
       "...                         ...\n",
       "42                     0.032258\n",
       "46                     0.031690\n",
       "44                     0.029851\n",
       "40                     0.000000\n",
       "39                     0.000000\n",
       "\n",
       "[61 rows x 1 columns]"
      ]
     },
     "execution_count": 16,
     "metadata": {},
     "output_type": "execute_result"
    }
   ],
   "source": [
    "data[['is_promoted','avg_training_score']].groupby('avg_training_score').mean().sort_values(by='is_promoted', ascending=False)"
   ]
  },
  {
   "cell_type": "markdown",
   "id": "acc2422f",
   "metadata": {},
   "source": [
    "# Data Preparation:"
   ]
  },
  {
   "cell_type": "code",
   "execution_count": 17,
   "id": "28a15780",
   "metadata": {},
   "outputs": [],
   "source": [
    "from sklearn.model_selection import train_test_split\n",
    "\n",
    "X=data.drop(['is_promoted'],axis=1)\n",
    "y=data['is_promoted']\n",
    "\n",
    "X_train,X_test,y_train,y_test=train_test_split(X,y,test_size=0.2,random_state=42)"
   ]
  },
  {
   "cell_type": "code",
   "execution_count": 97,
   "id": "a370abbe",
   "metadata": {},
   "outputs": [],
   "source": [
    "# Random Forest Classification"
   ]
  },
  {
   "cell_type": "code",
   "execution_count": 18,
   "id": "b5583c1c",
   "metadata": {},
   "outputs": [
    {
     "name": "stdout",
     "output_type": "stream",
     "text": [
      "Test Accuracy: 93.74%\n"
     ]
    }
   ],
   "source": [
    "from sklearn.ensemble import RandomForestClassifier\n",
    "rf = RandomForestClassifier(n_estimators=500, random_state=42)\n",
    "rf.fit(X_train, y_train)\n",
    "print(\"Test Accuracy: {}%\".format(round(rf.score(X_test, y_test)*100, 2)))"
   ]
  },
  {
   "cell_type": "code",
   "execution_count": 19,
   "id": "756de756",
   "metadata": {},
   "outputs": [
    {
     "name": "stdout",
     "output_type": "stream",
     "text": [
      "Test Accuracy: 93.74%\n",
      "Decision Tree Classifier report: \n",
      "\n",
      "               precision    recall  f1-score   support\n",
      "\n",
      "           0       0.94      1.00      0.97     10054\n",
      "           1       0.91      0.27      0.42       908\n",
      "\n",
      "    accuracy                           0.94     10962\n",
      "   macro avg       0.92      0.63      0.69     10962\n",
      "weighted avg       0.94      0.94      0.92     10962\n",
      "\n",
      "[[10029    25]\n",
      " [  661   247]]\n"
     ]
    }
   ],
   "source": [
    "print(\"Test Accuracy: {}%\".format(round(rf.score(X_test, y_test)*100,2)))\n",
    "y_pred_dt = rf.predict(X_test)\n",
    "print(\"Decision Tree Classifier report: \\n\\n\", classification_report(y_test, y_pred_dt))\n",
    "print(confusion_matrix(y_test,y_pred_dt))"
   ]
  },
  {
   "cell_type": "code",
   "execution_count": null,
   "id": "eb2715c2",
   "metadata": {},
   "outputs": [],
   "source": [
    "# Decision Tree"
   ]
  },
  {
   "cell_type": "code",
   "execution_count": 118,
   "id": "6ebeebb4",
   "metadata": {},
   "outputs": [
    {
     "name": "stdout",
     "output_type": "stream",
     "text": [
      "Decision Tree Classifier report: \n",
      "\n",
      "               precision    recall  f1-score   support\n",
      "\n",
      "           0       0.95      0.94      0.94     10054\n",
      "           1       0.39      0.45      0.42       908\n",
      "\n",
      "    accuracy                           0.90     10962\n",
      "   macro avg       0.67      0.69      0.68     10962\n",
      "weighted avg       0.90      0.90      0.90     10962\n",
      "\n",
      "Test Accuracy: 89.6%\n",
      "[[9412  642]\n",
      " [ 498  410]]\n"
     ]
    }
   ],
   "source": [
    "from sklearn.tree import DecisionTreeClassifier\n",
    "\n",
    "dt = DecisionTreeClassifier()\n",
    "dt.fit(X_train, y_train)\n",
    "\n",
    "y_pred_dt = dt.predict(X_test)\n",
    "print(\"Decision Tree Classifier report: \\n\\n\", classification_report(y_test, y_pred_dt))\n",
    "print(\"Test Accuracy: {}%\".format(round(dt.score(X_test, y_test)*100, 2)))\n",
    "\n",
    "print(confusion_matrix(y_test,y_pred_dt))"
   ]
  },
  {
   "cell_type": "code",
   "execution_count": null,
   "id": "ad318a15",
   "metadata": {},
   "outputs": [],
   "source": [
    "# Logistic Regression Classification"
   ]
  },
  {
   "cell_type": "code",
   "execution_count": 119,
   "id": "58e6c88e",
   "metadata": {},
   "outputs": [
    {
     "name": "stdout",
     "output_type": "stream",
     "text": [
      "Test Accuracy: 92.0%\n"
     ]
    }
   ],
   "source": [
    "from sklearn.linear_model import LogisticRegression\n",
    "\n",
    "lr = LogisticRegression(max_iter=500)\n",
    "lr.fit(X_train, y_train)\n",
    "print(\"Test Accuracy: {}%\".format(round(lr.score(X_test, y_test)*100,2)))"
   ]
  },
  {
   "cell_type": "code",
   "execution_count": 106,
   "id": "0a489fb8",
   "metadata": {},
   "outputs": [
    {
     "name": "stdout",
     "output_type": "stream",
     "text": [
      "Decision Tree Classifier report: \n",
      "\n",
      "               precision    recall  f1-score   support\n",
      "\n",
      "           0       0.92      1.00      0.96     10054\n",
      "           1       0.33      0.00      0.00       908\n",
      "\n",
      "    accuracy                           0.92     10962\n",
      "   macro avg       0.63      0.50      0.48     10962\n",
      "weighted avg       0.87      0.92      0.88     10962\n",
      "\n",
      "[[10052     2]\n",
      " [  907     1]]\n"
     ]
    }
   ],
   "source": [
    "y_pred_dt = lr.predict(X_test)\n",
    "print(\"Decision Tree Classifier report: \\n\\n\", classification_report(y_test, y_pred_dt))\n",
    "print(confusion_matrix(y_test,y_pred_dt))"
   ]
  },
  {
   "cell_type": "code",
   "execution_count": null,
   "id": "40ac2c74",
   "metadata": {},
   "outputs": [],
   "source": [
    "# KNN Classification"
   ]
  },
  {
   "cell_type": "code",
   "execution_count": 107,
   "id": "e03e6009",
   "metadata": {},
   "outputs": [
    {
     "data": {
      "text/plain": [
       "[0.8526728699142492,\n",
       " 0.911421273490239,\n",
       " 0.9003831417624522,\n",
       " 0.9157088122605364,\n",
       " 0.9126071884692575,\n",
       " 0.9168947272395548,\n",
       " 0.9158000364896917,\n",
       " 0.9170771756978654,\n",
       " 0.9167122787812443,\n",
       " 0.9172596241561759,\n",
       " 0.9172596241561759,\n",
       " 0.9171683999270206,\n",
       " 0.9171683999270206,\n",
       " 0.9171683999270206]"
      ]
     },
     "execution_count": 107,
     "metadata": {},
     "output_type": "execute_result"
    }
   ],
   "source": [
    "from sklearn.neighbors import KNeighborsClassifier\n",
    "from sklearn.metrics import confusion_matrix,accuracy_score,precision_score,recall_score,f1_score\n",
    "\n",
    "acc_values=[]\n",
    "neighbours=np.arange(1,15)\n",
    "for k in neighbours:\n",
    "    classifier=KNeighborsClassifier(n_neighbors=k,metric='minkowski')\n",
    "    model=classifier.fit(X_train,y_train)\n",
    "    y_predict=model.predict(X_test)\n",
    "    acc=accuracy_score(y_test,y_predict)\n",
    "    acc_values.append(acc)\n",
    "acc_values"
   ]
  },
  {
   "cell_type": "code",
   "execution_count": 108,
   "id": "79cd91ec",
   "metadata": {},
   "outputs": [
    {
     "data": {
      "text/plain": [
       "Text(0, 0.5, 'accuracy value')"
      ]
     },
     "execution_count": 108,
     "metadata": {},
     "output_type": "execute_result"
    },
    {
     "data": {
      "image/png": "[encoded data removed]",
      "text/plain": [
       "<Figure size 432x288 with 1 Axes>"
      ]
     },
     "metadata": {
      "needs_background": "light"
     },
     "output_type": "display_data"
    }
   ],
   "source": [
    "plt.plot(neighbours,acc_values,\"o-\")\n",
    "plt.xlabel(\"k value\")\n",
    "plt.ylabel(\"accuracy value\")"
   ]
  },
  {
   "cell_type": "code",
   "execution_count": 109,
   "id": "43c0e844",
   "metadata": {},
   "outputs": [
    {
     "name": "stdout",
     "output_type": "stream",
     "text": [
      "Decision Tree Classifier report: \n",
      "\n",
      "               precision    recall  f1-score   support\n",
      "\n",
      "           0       0.92      1.00      0.96     10054\n",
      "           1       0.33      0.00      0.00       908\n",
      "\n",
      "    accuracy                           0.92     10962\n",
      "   macro avg       0.63      0.50      0.48     10962\n",
      "weighted avg       0.87      0.92      0.88     10962\n",
      "\n",
      "[[10052     2]\n",
      " [  907     1]]\n",
      "accuracy_score is 0.9158000364896917\n",
      "precision_score is 0.17391304347826086\n",
      "recall_score is 0.004405286343612335\n",
      "f1_score is 0.008592910848549948\n"
     ]
    }
   ],
   "source": [
    "classifier=KNeighborsClassifier(n_neighbors=7,metric='minkowski')\n",
    "model=classifier.fit(X_train,y_train)\n",
    "y_predict=model.predict(X_test)\n",
    "\n",
    "\n",
    "print(\"Decision Tree Classifier report: \\n\\n\", classification_report(y_test, y_pred_dt))\n",
    "print(confusion_matrix(y_test,y_pred_dt))\n",
    "\n",
    "print(\"accuracy_score is\",  accuracy_score(y_test,y_predict) )\n",
    "print(\"precision_score is\" ,precision_score(y_test,y_predict) )\n",
    "print(\"recall_score is\" ,recall_score(y_test,y_predict) )\n",
    "print(\"f1_score is\" ,f1_score(y_test,y_predict) )\n"
   ]
  },
  {
   "cell_type": "code",
   "execution_count": null,
   "id": "cedd486d",
   "metadata": {},
   "outputs": [],
   "source": [
    "# SVM Classification"
   ]
  },
  {
   "cell_type": "code",
   "execution_count": 110,
   "id": "80d59796",
   "metadata": {},
   "outputs": [
    {
     "name": "stdout",
     "output_type": "stream",
     "text": [
      "Test Accuracy: 90.37%\n",
      "Decision Tree Classifier report: \n",
      "\n",
      "               precision    recall  f1-score   support\n",
      "\n",
      "           0       0.92      0.98      0.95     10054\n",
      "           1       0.15      0.04      0.06       908\n",
      "\n",
      "    accuracy                           0.90     10962\n",
      "   macro avg       0.54      0.51      0.50     10962\n",
      "weighted avg       0.86      0.90      0.88     10962\n",
      "\n",
      "[[9873  181]\n",
      " [ 875   33]]\n"
     ]
    },
    {
     "name": "stderr",
     "output_type": "stream",
     "text": [
      "C:\\Users\\vivek\\anaconda3\\lib\\site-packages\\sklearn\\svm\\_base.py:1206: ConvergenceWarning: Liblinear failed to converge, increase the number of iterations.\n",
      "  warnings.warn(\n"
     ]
    }
   ],
   "source": [
    "from sklearn.svm import SVC,LinearSVC\n",
    "\n",
    "linear_svc=LinearSVC()\n",
    "linear_svc.fit(X_train, y_train)\n",
    "linear_svc_predictions=linear_svc.predict(X_test)\n",
    "\n",
    "print(\"Test Accuracy: {}%\".format(round(linear_svc.score(X_test, y_test)*100,2)))\n",
    "y_pred_dt = linear_svc.predict(X_test)\n",
    "print(\"Decision Tree Classifier report: \\n\\n\", classification_report(y_test, y_pred_dt))\n",
    "print(confusion_matrix(y_test,y_pred_dt))"
   ]
  },
  {
   "cell_type": "code",
   "execution_count": null,
   "id": "5437b625",
   "metadata": {},
   "outputs": [],
   "source": [
    "# Naive Bayes Classification"
   ]
  },
  {
   "cell_type": "code",
   "execution_count": 111,
   "id": "aa1c34ce",
   "metadata": {},
   "outputs": [
    {
     "name": "stdout",
     "output_type": "stream",
     "text": [
      "Test Accuracy: 91.95%\n"
     ]
    }
   ],
   "source": [
    "from sklearn.naive_bayes import GaussianNB\n",
    "nb = GaussianNB()\n",
    "nb.fit(X_train, y_train)\n",
    "print(\"Test Accuracy: {}%\".format(round(nb.score(X_test, y_test)*100, 2)))"
   ]
  },
  {
   "cell_type": "code",
   "execution_count": 112,
   "id": "8c6845ac",
   "metadata": {},
   "outputs": [
    {
     "name": "stdout",
     "output_type": "stream",
     "text": [
      "Test Accuracy: 91.95%\n",
      "Decision Tree Classifier report: \n",
      "\n",
      "               precision    recall  f1-score   support\n",
      "\n",
      "           0       0.92      1.00      0.96     10054\n",
      "           1       0.91      0.03      0.06       908\n",
      "\n",
      "    accuracy                           0.92     10962\n",
      "   macro avg       0.91      0.52      0.51     10962\n",
      "weighted avg       0.92      0.92      0.88     10962\n",
      "\n",
      "[[10051     3]\n",
      " [  879    29]]\n"
     ]
    }
   ],
   "source": [
    "print(\"Test Accuracy: {}%\".format(round(nb.score(X_test, y_test)*100,2)))\n",
    "y_pred_dt = nb.predict(X_test)\n",
    "print(\"Decision Tree Classifier report: \\n\\n\", classification_report(y_test, y_pred_dt))\n",
    "print(confusion_matrix(y_test,y_pred_dt))"
   ]
  },
  {
   "cell_type": "code",
   "execution_count": null,
   "id": "06ad1c0a",
   "metadata": {},
   "outputs": [],
   "source": [
    "Score is highest for RandomForest"
   ]
  },
  {
   "cell_type": "code",
   "execution_count": null,
   "id": "73125e31",
   "metadata": {},
   "outputs": [],
   "source": [
    "# Predictions\n",
    "Predicting some of the X_test results and matching it with true i.e. y_test values using RandomForest Classifier."
   ]
  },
  {
   "cell_type": "code",
   "execution_count": 132,
   "id": "9fab4b7e",
   "metadata": {},
   "outputs": [
    {
     "name": "stdout",
     "output_type": "stream",
     "text": [
      "[0 0 0 0 0 0 0 0 1 0 0 0 0 0 0 0 0 0 0 0 0 0 0 0 0 0 0 0 0 0 0 0 0 0 0 0]\n",
      "[0 0 0 0 0 0 0 0 1 0 0 0 0 0 0 0 0 0 0 0 0 0 0 0 0 0 0 0 0 0 0 0 0 0 0 0]\n"
     ]
    }
   ],
   "source": [
    "preds = rf.predict(X_test)\n",
    "print(preds[:36])\n",
    "print(y_test[:36].values)"
   ]
  },
  {
   "cell_type": "code",
   "execution_count": 20,
   "id": "7d1836ad",
   "metadata": {},
   "outputs": [],
   "source": [
    "test_data=pd.read_csv('test_2umaH9m.csv')"
   ]
  },
  {
   "cell_type": "code",
   "execution_count": 21,
   "id": "d4d99189",
   "metadata": {},
   "outputs": [],
   "source": [
    "for column in obj_column:\n",
    "    test_data[column] = labelencoder.fit_transform(test_data[column])\n",
    "    \n",
    "for column in data.columns:\n",
    "    test_data['education'] = labelencoder.fit_transform(test_data['education'])\n",
    "    \n",
    "test_data['previous_year_rating'].fillna(test_data['previous_year_rating'].median(), inplace=True)\n"
   ]
  },
  {
   "cell_type": "code",
   "execution_count": 22,
   "id": "8f7c9da0",
   "metadata": {},
   "outputs": [
    {
     "data": {
      "text/plain": [
       "employee_id             0\n",
       "department              0\n",
       "region                  0\n",
       "education               0\n",
       "gender                  0\n",
       "recruitment_channel     0\n",
       "no_of_trainings         0\n",
       "age                     0\n",
       "previous_year_rating    0\n",
       "length_of_service       0\n",
       "KPIs_met >80%           0\n",
       "awards_won?             0\n",
       "avg_training_score      0\n",
       "dtype: int64"
      ]
     },
     "execution_count": 22,
     "metadata": {},
     "output_type": "execute_result"
    }
   ],
   "source": [
    "test_data.isnull().sum()"
   ]
  },
  {
   "cell_type": "code",
   "execution_count": null,
   "id": "bd172c20",
   "metadata": {},
   "outputs": [],
   "source": [
    "test"
   ]
  },
  {
   "cell_type": "code",
   "execution_count": 23,
   "id": "c9a94259",
   "metadata": {},
   "outputs": [],
   "source": [
    "pred_test_data=rf.predict(test_data)"
   ]
  },
  {
   "cell_type": "code",
   "execution_count": 24,
   "id": "b6c0ad5f",
   "metadata": {},
   "outputs": [
    {
     "data": {
      "text/plain": [
       "array([0, 0, 0, ..., 0, 0, 1], dtype=int64)"
      ]
     },
     "execution_count": 24,
     "metadata": {},
     "output_type": "execute_result"
    }
   ],
   "source": [
    "pred_test_data"
   ]
  },
  {
   "cell_type": "code",
   "execution_count": 26,
   "id": "e41d890c",
   "metadata": {},
   "outputs": [],
   "source": [
    "final = pd.DataFrame()\n",
    "final['employee_id']=test_data.employee_id\n",
    "\n",
    "\n",
    "#pd.concat([tit_df,sex,embarked],axis=1)"
   ]
  },
  {
   "cell_type": "code",
   "execution_count": 27,
   "id": "627fd2b1",
   "metadata": {},
   "outputs": [
    {
     "data": {
      "text/plain": [
       "0         8724\n",
       "1        74430\n",
       "2        72255\n",
       "3        38562\n",
       "4        64486\n",
       "         ...  \n",
       "23485    53478\n",
       "23486    25600\n",
       "23487    45409\n",
       "23488     1186\n",
       "23489     5973\n",
       "Name: employee_id, Length: 23490, dtype: int64"
      ]
     },
     "execution_count": 27,
     "metadata": {},
     "output_type": "execute_result"
    }
   ],
   "source": [
    "final['employee_id']\n"
   ]
  },
  {
   "cell_type": "code",
   "execution_count": 36,
   "id": "4f2302f9",
   "metadata": {},
   "outputs": [],
   "source": [
    "final['is_promoted']=pred_test_data\n",
    "final = final.reset_index(drop=True)"
   ]
  },
  {
   "cell_type": "code",
   "execution_count": 37,
   "id": "c7e14328",
   "metadata": {},
   "outputs": [
    {
     "data": {
      "text/html": [
       "<div>\n",
       "<style scoped>\n",
       "    .dataframe tbody tr th:only-of-type {\n",
       "        vertical-align: middle;\n",
       "    }\n",
       "\n",
       "    .dataframe tbody tr th {\n",
       "        vertical-align: top;\n",
       "    }\n",
       "\n",
       "    .dataframe thead th {\n",
       "        text-align: right;\n",
       "    }\n",
       "</style>\n",
       "<table border=\"1\" class=\"dataframe\">\n",
       "  <thead>\n",
       "    <tr style=\"text-align: right;\">\n",
       "      <th></th>\n",
       "      <th>employee_id</th>\n",
       "      <th>is_promoted</th>\n",
       "    </tr>\n",
       "  </thead>\n",
       "  <tbody>\n",
       "    <tr>\n",
       "      <th>0</th>\n",
       "      <td>8724</td>\n",
       "      <td>0</td>\n",
       "    </tr>\n",
       "    <tr>\n",
       "      <th>1</th>\n",
       "      <td>74430</td>\n",
       "      <td>0</td>\n",
       "    </tr>\n",
       "    <tr>\n",
       "      <th>2</th>\n",
       "      <td>72255</td>\n",
       "      <td>0</td>\n",
       "    </tr>\n",
       "    <tr>\n",
       "      <th>3</th>\n",
       "      <td>38562</td>\n",
       "      <td>0</td>\n",
       "    </tr>\n",
       "    <tr>\n",
       "      <th>4</th>\n",
       "      <td>64486</td>\n",
       "      <td>0</td>\n",
       "    </tr>\n",
       "    <tr>\n",
       "      <th>...</th>\n",
       "      <td>...</td>\n",
       "      <td>...</td>\n",
       "    </tr>\n",
       "    <tr>\n",
       "      <th>23485</th>\n",
       "      <td>53478</td>\n",
       "      <td>0</td>\n",
       "    </tr>\n",
       "    <tr>\n",
       "      <th>23486</th>\n",
       "      <td>25600</td>\n",
       "      <td>0</td>\n",
       "    </tr>\n",
       "    <tr>\n",
       "      <th>23487</th>\n",
       "      <td>45409</td>\n",
       "      <td>0</td>\n",
       "    </tr>\n",
       "    <tr>\n",
       "      <th>23488</th>\n",
       "      <td>1186</td>\n",
       "      <td>0</td>\n",
       "    </tr>\n",
       "    <tr>\n",
       "      <th>23489</th>\n",
       "      <td>5973</td>\n",
       "      <td>1</td>\n",
       "    </tr>\n",
       "  </tbody>\n",
       "</table>\n",
       "<p>23490 rows × 2 columns</p>\n",
       "</div>"
      ],
      "text/plain": [
       "       employee_id  is_promoted\n",
       "0             8724            0\n",
       "1            74430            0\n",
       "2            72255            0\n",
       "3            38562            0\n",
       "4            64486            0\n",
       "...            ...          ...\n",
       "23485        53478            0\n",
       "23486        25600            0\n",
       "23487        45409            0\n",
       "23488         1186            0\n",
       "23489         5973            1\n",
       "\n",
       "[23490 rows x 2 columns]"
      ]
     },
     "execution_count": 37,
     "metadata": {},
     "output_type": "execute_result"
    }
   ],
   "source": [
    "final"
   ]
  },
  {
   "cell_type": "code",
   "execution_count": 30,
   "id": "b98dd98d",
   "metadata": {},
   "outputs": [
    {
     "data": {
      "text/plain": [
       "0    22949\n",
       "1      541\n",
       "Name: is_promoted, dtype: int64"
      ]
     },
     "execution_count": 30,
     "metadata": {},
     "output_type": "execute_result"
    }
   ],
   "source": [
    "final['is_promoted'].value_counts()"
   ]
  },
  {
   "cell_type": "code",
   "execution_count": 38,
   "id": "9ca23936",
   "metadata": {},
   "outputs": [],
   "source": [
    "final.to_csv('submission.csv',index=False)"
   ]
  },
  {
   "cell_type": "code",
   "execution_count": null,
   "id": "2721083d",
   "metadata": {},
   "outputs": [],
   "source": []
  }
 ],
 "metadata": {
  "kernelspec": {
   "display_name": "Python 3 (ipykernel)",
   "language": "python",
   "name": "python3"
  },
  "language_info": {
   "codemirror_mode": {
    "name": "ipython",
    "version": 3
   },
   "file_extension": ".py",
   "mimetype": "text/x-python",
   "name": "python",
   "nbconvert_exporter": "python",
   "pygments_lexer": "ipython3",
   "version": "3.9.12"
  }
 },
 "nbformat": 4,
 "nbformat_minor": 5
}
